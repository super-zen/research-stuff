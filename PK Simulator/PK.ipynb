{
 "cells": [
  {
   "cell_type": "code",
   "execution_count": null,
   "metadata": {},
   "outputs": [],
   "source": [
    "%matplotlib inline"
   ]
  },
  {
   "cell_type": "code",
   "execution_count": null,
   "metadata": {},
   "outputs": [],
   "source": [
    "import matplotlib.pyplot as plt\n",
    "import numpy as np\n",
    "\n",
    "from numpy.random import uniform, normal"
   ]
  },
  {
   "cell_type": "code",
   "execution_count": null,
   "metadata": {},
   "outputs": [],
   "source": [
    "def sample_k_slopes(num, thres, mean1, dev1, mean2, dev2):\n",
    "    probabilities = uniform(num)\n",
    "    \n",
    "    dist = [normal(mean1, dev1) if p < thres else normal(mean2, dev2) for p in probabilities]\n",
    "    return dist\n",
    "\n",
    "def sample_v_slopes(num, mean, dev):\n",
    "    return normal(mean, dev, num)"
   ]
  },
  {
   "cell_type": "code",
   "execution_count": null,
   "metadata": {},
   "outputs": [],
   "source": [
    "np.random.seed(0)\n",
    "plt.rcParams['figure.figsize'] = (10, 8)"
   ]
  },
  {
   "cell_type": "code",
   "execution_count": null,
   "metadata": {},
   "outputs": [],
   "source": [
    "# independent global constants\n",
    "\n",
    "# patient constants\n",
    "k_slope = 0.003125\n",
    "k_int = 0.01\n",
    "cl_cr = 50\n",
    "v_slope = 0.2806\n",
    "bw = 70\n",
    "\n",
    "# error constants\n",
    "measurement_error = 0\n",
    "measurement_timing_error = 0\n",
    "dosage_error = 0\n",
    "dosage_timing_error = 0\n",
    "\n",
    "# therapy constants\n",
    "days = 10\n",
    "dosage_period = 12\n",
    "dosage_length = 1\n",
    "peak = 7\n",
    "trough = 1.5\n",
    "step_size = 0.1\n",
    "measurement_times = [1, 11, 73, 83, 145, 155]\n",
    "\n",
    "# prior constants\n",
    "size = 9\n",
    "p = 0.2\n",
    "k_dev = 0.001\n",
    "v_dev = 0.05"
   ]
  },
  {
   "cell_type": "code",
   "execution_count": null,
   "metadata": {},
   "outputs": [],
   "source": [
    "# dependent global constants\n",
    "\n",
    "# patient constants\n",
    "k_el = k_int + k_slope * cl_cr\n",
    "v_d = v_slope * bw\n",
    "\n",
    "# therapy constants\n",
    "duration = days * 24\n",
    "num_of_doses = int(duration/dosage_period)\n",
    "dosage_times = [ dosage_period*i for i in range(num_of_doses) ]\n",
    "\n",
    "# prior constants\n",
    "mean1 = 4/3*k_slope\n",
    "mean2 = 2/3*k_slope\n",
    "\n",
    "k_slopes = sample_k_slopes(size, p, mean1, k_dev, mean2, k_dev)\n",
    "v_slopes = sample_v_slopes(size, v_slope, v_dev)"
   ]
  },
  {
   "cell_type": "code",
   "execution_count": null,
   "metadata": {},
   "outputs": [],
   "source": [
    "class Simulator:\n",
    "    def __init__(self):\n",
    "        self.measurements = []\n",
    "        self.prior = self.initializePrior()\n",
    "        self.dose = self.optimalDose()\n",
    "        \n",
    "    def initializePrior():\n",
    "        global size, k_slopes, v_slopes\n",
    "        \n",
    "        w = 1/size**2\n",
    "        prior = w * np.ones((size, size))\n",
    "        \n",
    "        return prior\n",
    "    \n",
    "    def optimalDose(lo=50, hi=200):\n",
    "        global k_slopes, v_slopes"
   ]
  }
 ],
 "metadata": {
  "kernelspec": {
   "display_name": "Python 3",
   "language": "python",
   "name": "python3"
  },
  "language_info": {
   "codemirror_mode": {
    "name": "ipython",
    "version": 3
   },
   "file_extension": ".py",
   "mimetype": "text/x-python",
   "name": "python",
   "nbconvert_exporter": "python",
   "pygments_lexer": "ipython3",
   "version": "3.6.4"
  }
 },
 "nbformat": 4,
 "nbformat_minor": 2
}
